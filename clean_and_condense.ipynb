{
 "cells": [
  {
   "cell_type": "code",
   "execution_count": 44,
   "metadata": {},
   "outputs": [
    {
     "data": {
      "text/plain": [
       "0.2802469135802469"
      ]
     },
     "execution_count": 44,
     "metadata": {},
     "output_type": "execute_result"
    }
   ],
   "source": [
    "team = [\"abilene-christian\",\"arizona-state\",'auburn','baylor','belmont','bradley','buffalo','cincinnati','colgate','duke',\\\n",
    "        'fairleigh-dickinson','florida','florida-state','gardner-webb','georgia-state',\\\n",
    "        \"gonzaga\",'houston','iona','iowa','iowa-state','kansas','kansas-state','kentucky','liberty','louisville','louisiana-state',\\\n",
    "       'marquette','maryland','michigan','michigan-state','minnesota','mississippi-state','montana','murray-state','nevada',\\\n",
    "       'new-mexico-state','north-carolina','north-carolina-central','north-dakota-state','northeastern','northern-kentucky',\\\n",
    "       'ohio-state','oklahoma','old-dominion','mississippi','oregon','prairie-view','purdue','saint-louis','seton-hall','st-johns-ny',\\\n",
    "       'saint-marys-ca','syracuse','temple','tennessee','texas-tech','california-irvine','central-florida','utah-state',\\\n",
    "       'virginia-commonwealth','vermont','villanova','virginia','virginia-tech','washington','wisconsin','wofford','yale']\n",
    "i=0\n",
    "\n",
    "while i < len(team):\n",
    "    csv = f'teams/{team[i]}.csv'\n",
    "    dataframe = pd.read_csv(csv)\n",
    "    avg_turnover = dataframe.loc[:,'tov'].mean()\n",
    "    avg_turnover_forced = dataframe.loc[:,'opp_tov'].mean()\n",
    "    total_fts_per = dataframe.loc[:,'fta'].mean()\n",
    "    opp_total_fts_per = dataframe.loc[:,'opp_fta'].mean()\n",
    "    ft_perc = dataframe.loc[:,'ft_perc'].mean()\n",
    "    opp_ft_perc = dataframe.loc[:,'opp_ft_perc'].mean()\n",
    "    shot_atts = dataframe.loc[:,'fga'].sum()\n",
    "    opp_shot_atts = dataframe.loc[:,'opp_fga'].sum()\n",
    "    shot_made = dataframe.loc[:,'fgm'].sum()\n",
    "    opp_shot_made = dataframe.loc[:,'opp_fgm'].sum()\n",
    "    three_atts = dataframe.loc[:,'three_att'].sum()\n",
    "    three_atts_per = dataframe.loc[:,'three_att'].sum()/len(dataframe.loc[:,'three_att'])\n",
    "    opp_three_atts = dataframe.loc[:,'opp_three_att'].sum()\n",
    "    opp_three_atts_per = dataframe.loc[:,'opp_three_att'].sum()/len(dataframe.loc[:,'three_att'])\n",
    "    three_made = dataframe.loc[:,'threes'].sum()\n",
    "    opp_three_made = dataframe.loc[:,'opp_threes'].sum()\n",
    "    rebs= dataframe.loc[:,'trb'].sum()\n",
    "    opp_rebs= dataframe.loc[:,'opp_trb'].sum()\n",
    "    off_rebs= dataframe.loc[:,'orb'].sum()\n",
    "    opp_off_rebs= dataframe.loc[:,'opp_orb'].sum()\n",
    "    def_rebs= dataframe.loc[:,'drb'].sum()\n",
    "    opp_def_rebs= dataframe.loc[:,'opp_drb'].sum()\n",
    "    total_rebs = int(rebs)-int(opp_rebs)\n",
    "    rebs_allowed = int(opp_off_rebs)/int(def_rebs)\n",
    "    rebs_taken = int(off_rebs)/int(opp_def_rebs)\n",
    "    two_atts = int(shot_atts)- int(three_atts)\n",
    "    two_atts_per = (two_atts)/len(dataframe.loc[:,'three_att'])\n",
    "    opp_two_atts_per = (opp_two_atts)/len(dataframe.loc[:,'three_att'])\n",
    "    opp_two_atts = int(opp_shot_atts)- int(opp_three_atts)\n",
    "    two_made = int(shot_made)- int(three_made)\n",
    "    opp_two_made = int(opp_shot_made)- int(opp_three_made)\n",
    "    shoot_perc = int(shot_made)/int(shot_atts)\n",
    "    opp_shoot_perc = int(opp_shot_made)/int(opp_shot_atts)\n",
    "    three_perc = int(three_made)/int(three_atts)\n",
    "    opp_three_perc = int(opp_three_made)/int(opp_three_atts)\n",
    "    rebounds=pd.DataFrame({'total_rebs':[(total_rebs)],\n",
    "                           'rebs_allowed':[(rebs_allowed)],\n",
    "                           'rebs_taken':[(rebs_taken)],\n",
    "                           'three_atts_per':[(three_atts_per)],\n",
    "                           'opp_three_atts_per':[(opp_three_atts_per)],\n",
    "                           'three_perc':[(three_perc)],\n",
    "                           'opp_three_perc':[(opp_three_perc)],\n",
    "                           'shoot_perc':[(shoot_perc)],\n",
    "                           'opp_shoot_perc':[(opp_shoot_perc)],\n",
    "                           'two_atts_per':[(two_atts_per)],\n",
    "                           'opp_two_atts_per':[(opp_two_atts_per)],\n",
    "                           'avg_turnover':[(avg_turnover)],\n",
    "                           'avg_turnover_forced':[(avg_turnover_forced)],\n",
    "                           'total_fts_per':[(total_fts_per)],\n",
    "                           'opp_total_fts_per':[(opp_total_fts_per)],\n",
    "                           'ft_perc':[(ft_perc)],\n",
    "                           'team':[(team[i])]})\n",
    "    rebounds = rebounds.round(3)\n",
    "    rebounds.to_csv(f'rebounds/{team[i]}_rebs.csv', index=False)\n",
    "    i += 1\n",
    "    \n",
    "rebs_taken\n",
    "rebs_allowed"
   ]
  },
  {
   "cell_type": "code",
   "execution_count": null,
   "metadata": {},
   "outputs": [],
   "source": []
  },
  {
   "cell_type": "code",
   "execution_count": null,
   "metadata": {},
   "outputs": [],
   "source": []
  },
  {
   "cell_type": "code",
   "execution_count": null,
   "metadata": {},
   "outputs": [],
   "source": []
  },
  {
   "cell_type": "code",
   "execution_count": null,
   "metadata": {},
   "outputs": [],
   "source": []
  },
  {
   "cell_type": "code",
   "execution_count": 40,
   "metadata": {},
   "outputs": [
    {
     "ename": "KeyError",
     "evalue": "\"['Unnamed: 0'] not found in axis\"",
     "output_type": "error",
     "traceback": [
      "\u001b[1;31m---------------------------------------------------------------------------\u001b[0m",
      "\u001b[1;31mKeyError\u001b[0m                                  Traceback (most recent call last)",
      "\u001b[1;32m<ipython-input-40-1750cc5bc81b>\u001b[0m in \u001b[0;36m<module>\u001b[1;34m()\u001b[0m\n\u001b[0;32m      8\u001b[0m     \u001b[0mdataframe\u001b[0m\u001b[1;33m[\u001b[0m\u001b[1;34m'drb'\u001b[0m\u001b[1;33m]\u001b[0m \u001b[1;33m=\u001b[0m \u001b[0mdataframe\u001b[0m\u001b[1;33m[\u001b[0m\u001b[1;34m'trb'\u001b[0m\u001b[1;33m]\u001b[0m \u001b[1;33m-\u001b[0m \u001b[0mdataframe\u001b[0m\u001b[1;33m[\u001b[0m\u001b[1;34m'orb'\u001b[0m\u001b[1;33m]\u001b[0m\u001b[1;33m\u001b[0m\u001b[0m\n\u001b[0;32m      9\u001b[0m     \u001b[0mdataframe\u001b[0m\u001b[1;33m[\u001b[0m\u001b[1;34m'opp_drb'\u001b[0m\u001b[1;33m]\u001b[0m \u001b[1;33m=\u001b[0m \u001b[0mdataframe\u001b[0m\u001b[1;33m[\u001b[0m\u001b[1;34m'opp_trb'\u001b[0m\u001b[1;33m]\u001b[0m \u001b[1;33m-\u001b[0m \u001b[0mdataframe\u001b[0m\u001b[1;33m[\u001b[0m\u001b[1;34m'opp_orb'\u001b[0m\u001b[1;33m]\u001b[0m\u001b[1;33m\u001b[0m\u001b[0m\n\u001b[1;32m---> 10\u001b[1;33m     \u001b[0mdataframe\u001b[0m \u001b[1;33m=\u001b[0m \u001b[0mdataframe\u001b[0m\u001b[1;33m.\u001b[0m\u001b[0mdrop\u001b[0m\u001b[1;33m(\u001b[0m\u001b[0mcolumns\u001b[0m \u001b[1;33m=\u001b[0m \u001b[1;34m'Unnamed: 0'\u001b[0m\u001b[1;33m)\u001b[0m\u001b[1;33m\u001b[0m\u001b[0m\n\u001b[0m\u001b[0;32m     11\u001b[0m     \u001b[0mdataframe\u001b[0m \u001b[1;33m=\u001b[0m \u001b[0mdataframe\u001b[0m\u001b[1;33m.\u001b[0m\u001b[0mdrop\u001b[0m\u001b[1;33m(\u001b[0m\u001b[0mcolumns\u001b[0m \u001b[1;33m=\u001b[0m \u001b[1;34m'Unnamed: 0.1'\u001b[0m\u001b[1;33m)\u001b[0m\u001b[1;33m\u001b[0m\u001b[0m\n\u001b[0;32m     12\u001b[0m     \u001b[0mdataframe\u001b[0m\u001b[1;33m.\u001b[0m\u001b[0mto_csv\u001b[0m\u001b[1;33m(\u001b[0m\u001b[1;34mf'teams/{team[i]}.csv'\u001b[0m\u001b[1;33m,\u001b[0m \u001b[0mindex\u001b[0m\u001b[1;33m=\u001b[0m\u001b[1;32mFalse\u001b[0m\u001b[1;33m)\u001b[0m\u001b[1;33m\u001b[0m\u001b[0m\n",
      "\u001b[1;32m~\\Anaconda3\\envs\\myenv\\lib\\site-packages\\pandas\\core\\frame.py\u001b[0m in \u001b[0;36mdrop\u001b[1;34m(self, labels, axis, index, columns, level, inplace, errors)\u001b[0m\n\u001b[0;32m   3695\u001b[0m                                            \u001b[0mindex\u001b[0m\u001b[1;33m=\u001b[0m\u001b[0mindex\u001b[0m\u001b[1;33m,\u001b[0m \u001b[0mcolumns\u001b[0m\u001b[1;33m=\u001b[0m\u001b[0mcolumns\u001b[0m\u001b[1;33m,\u001b[0m\u001b[1;33m\u001b[0m\u001b[0m\n\u001b[0;32m   3696\u001b[0m                                            \u001b[0mlevel\u001b[0m\u001b[1;33m=\u001b[0m\u001b[0mlevel\u001b[0m\u001b[1;33m,\u001b[0m \u001b[0minplace\u001b[0m\u001b[1;33m=\u001b[0m\u001b[0minplace\u001b[0m\u001b[1;33m,\u001b[0m\u001b[1;33m\u001b[0m\u001b[0m\n\u001b[1;32m-> 3697\u001b[1;33m                                            errors=errors)\n\u001b[0m\u001b[0;32m   3698\u001b[0m \u001b[1;33m\u001b[0m\u001b[0m\n\u001b[0;32m   3699\u001b[0m     @rewrite_axis_style_signature('mapper', [('copy', True),\n",
      "\u001b[1;32m~\\Anaconda3\\envs\\myenv\\lib\\site-packages\\pandas\\core\\generic.py\u001b[0m in \u001b[0;36mdrop\u001b[1;34m(self, labels, axis, index, columns, level, inplace, errors)\u001b[0m\n\u001b[0;32m   3109\u001b[0m         \u001b[1;32mfor\u001b[0m \u001b[0maxis\u001b[0m\u001b[1;33m,\u001b[0m \u001b[0mlabels\u001b[0m \u001b[1;32min\u001b[0m \u001b[0maxes\u001b[0m\u001b[1;33m.\u001b[0m\u001b[0mitems\u001b[0m\u001b[1;33m(\u001b[0m\u001b[1;33m)\u001b[0m\u001b[1;33m:\u001b[0m\u001b[1;33m\u001b[0m\u001b[0m\n\u001b[0;32m   3110\u001b[0m             \u001b[1;32mif\u001b[0m \u001b[0mlabels\u001b[0m \u001b[1;32mis\u001b[0m \u001b[1;32mnot\u001b[0m \u001b[1;32mNone\u001b[0m\u001b[1;33m:\u001b[0m\u001b[1;33m\u001b[0m\u001b[0m\n\u001b[1;32m-> 3111\u001b[1;33m                 \u001b[0mobj\u001b[0m \u001b[1;33m=\u001b[0m \u001b[0mobj\u001b[0m\u001b[1;33m.\u001b[0m\u001b[0m_drop_axis\u001b[0m\u001b[1;33m(\u001b[0m\u001b[0mlabels\u001b[0m\u001b[1;33m,\u001b[0m \u001b[0maxis\u001b[0m\u001b[1;33m,\u001b[0m \u001b[0mlevel\u001b[0m\u001b[1;33m=\u001b[0m\u001b[0mlevel\u001b[0m\u001b[1;33m,\u001b[0m \u001b[0merrors\u001b[0m\u001b[1;33m=\u001b[0m\u001b[0merrors\u001b[0m\u001b[1;33m)\u001b[0m\u001b[1;33m\u001b[0m\u001b[0m\n\u001b[0m\u001b[0;32m   3112\u001b[0m \u001b[1;33m\u001b[0m\u001b[0m\n\u001b[0;32m   3113\u001b[0m         \u001b[1;32mif\u001b[0m \u001b[0minplace\u001b[0m\u001b[1;33m:\u001b[0m\u001b[1;33m\u001b[0m\u001b[0m\n",
      "\u001b[1;32m~\\Anaconda3\\envs\\myenv\\lib\\site-packages\\pandas\\core\\generic.py\u001b[0m in \u001b[0;36m_drop_axis\u001b[1;34m(self, labels, axis, level, errors)\u001b[0m\n\u001b[0;32m   3141\u001b[0m                 \u001b[0mnew_axis\u001b[0m \u001b[1;33m=\u001b[0m \u001b[0maxis\u001b[0m\u001b[1;33m.\u001b[0m\u001b[0mdrop\u001b[0m\u001b[1;33m(\u001b[0m\u001b[0mlabels\u001b[0m\u001b[1;33m,\u001b[0m \u001b[0mlevel\u001b[0m\u001b[1;33m=\u001b[0m\u001b[0mlevel\u001b[0m\u001b[1;33m,\u001b[0m \u001b[0merrors\u001b[0m\u001b[1;33m=\u001b[0m\u001b[0merrors\u001b[0m\u001b[1;33m)\u001b[0m\u001b[1;33m\u001b[0m\u001b[0m\n\u001b[0;32m   3142\u001b[0m             \u001b[1;32melse\u001b[0m\u001b[1;33m:\u001b[0m\u001b[1;33m\u001b[0m\u001b[0m\n\u001b[1;32m-> 3143\u001b[1;33m                 \u001b[0mnew_axis\u001b[0m \u001b[1;33m=\u001b[0m \u001b[0maxis\u001b[0m\u001b[1;33m.\u001b[0m\u001b[0mdrop\u001b[0m\u001b[1;33m(\u001b[0m\u001b[0mlabels\u001b[0m\u001b[1;33m,\u001b[0m \u001b[0merrors\u001b[0m\u001b[1;33m=\u001b[0m\u001b[0merrors\u001b[0m\u001b[1;33m)\u001b[0m\u001b[1;33m\u001b[0m\u001b[0m\n\u001b[0m\u001b[0;32m   3144\u001b[0m             \u001b[0mresult\u001b[0m \u001b[1;33m=\u001b[0m \u001b[0mself\u001b[0m\u001b[1;33m.\u001b[0m\u001b[0mreindex\u001b[0m\u001b[1;33m(\u001b[0m\u001b[1;33m**\u001b[0m\u001b[1;33m{\u001b[0m\u001b[0maxis_name\u001b[0m\u001b[1;33m:\u001b[0m \u001b[0mnew_axis\u001b[0m\u001b[1;33m}\u001b[0m\u001b[1;33m)\u001b[0m\u001b[1;33m\u001b[0m\u001b[0m\n\u001b[0;32m   3145\u001b[0m \u001b[1;33m\u001b[0m\u001b[0m\n",
      "\u001b[1;32m~\\Anaconda3\\envs\\myenv\\lib\\site-packages\\pandas\\core\\indexes\\base.py\u001b[0m in \u001b[0;36mdrop\u001b[1;34m(self, labels, errors)\u001b[0m\n\u001b[0;32m   4402\u001b[0m             \u001b[1;32mif\u001b[0m \u001b[0merrors\u001b[0m \u001b[1;33m!=\u001b[0m \u001b[1;34m'ignore'\u001b[0m\u001b[1;33m:\u001b[0m\u001b[1;33m\u001b[0m\u001b[0m\n\u001b[0;32m   4403\u001b[0m                 raise KeyError(\n\u001b[1;32m-> 4404\u001b[1;33m                     '{} not found in axis'.format(labels[mask]))\n\u001b[0m\u001b[0;32m   4405\u001b[0m             \u001b[0mindexer\u001b[0m \u001b[1;33m=\u001b[0m \u001b[0mindexer\u001b[0m\u001b[1;33m[\u001b[0m\u001b[1;33m~\u001b[0m\u001b[0mmask\u001b[0m\u001b[1;33m]\u001b[0m\u001b[1;33m\u001b[0m\u001b[0m\n\u001b[0;32m   4406\u001b[0m         \u001b[1;32mreturn\u001b[0m \u001b[0mself\u001b[0m\u001b[1;33m.\u001b[0m\u001b[0mdelete\u001b[0m\u001b[1;33m(\u001b[0m\u001b[0mindexer\u001b[0m\u001b[1;33m)\u001b[0m\u001b[1;33m\u001b[0m\u001b[0m\n",
      "\u001b[1;31mKeyError\u001b[0m: \"['Unnamed: 0'] not found in axis\""
     ]
    }
   ],
   "source": [
    "import pandas as pd\n",
    "team = [\"abilene-christian\",\"arizona-state\",'auburn','baylor','belmont','bradley','buffalo','cincinnati','colgate','duke',\\\n",
    "        'fairleigh-dickinson','florida','florida-state','gardner-webb','georgia-state',\\\n",
    "        \"gonzaga\",'houston','iona','iowa','iowa-state','kansas','kansas-state','kentucky','liberty','louisville','louisiana-state',\\\n",
    "       'marquette','maryland','michigan','michigan-state','minnesota','mississippi-state','montana','murray-state','nevada',\\\n",
    "       'new-mexico-state','north-carolina','north-carolina-central','north-dakota-state','northeastern','northern-kentucky',\\\n",
    "       'ohio-state','oklahoma','old-dominion','mississippi','oregon','prairie-view','purdue','saint-louis','seton-hall','st-johns-ny',\\\n",
    "       'saint-marys-ca','syracuse','temple','tennessee','texas-tech','california-irvine','central-florida','utah-state',\\\n",
    "       'virginia-commonwealth','vermont','villanova','virginia','virginia-tech','washington','wisconsin','wofford','yale']\n",
    "i=0\n",
    "\n",
    "while i < len(team):\n",
    "    csv = f'teams/{team[i]}.csv'\n",
    "    dataframe = pd.read_csv(csv)\n",
    "    dataframe['drb'] = dataframe['trb'] - dataframe['orb']\n",
    "    dataframe['opp_drb'] = dataframe['opp_trb'] - dataframe['opp_orb']\n",
    "    dataframe = dataframe.drop(columns = 'Unnamed: 0')\n",
    "    dataframe = dataframe.drop(columns = 'Unnamed: 0.1')\n",
    "    dataframe.to_csv(f'teams/{team[i]}.csv', index=False)\n",
    "    i += 1"
   ]
  },
  {
   "cell_type": "code",
   "execution_count": null,
   "metadata": {},
   "outputs": [],
   "source": []
  },
  {
   "cell_type": "code",
   "execution_count": null,
   "metadata": {},
   "outputs": [],
   "source": []
  },
  {
   "cell_type": "code",
   "execution_count": null,
   "metadata": {},
   "outputs": [],
   "source": [
    "#cleaning csv's"
   ]
  },
  {
   "cell_type": "code",
   "execution_count": null,
   "metadata": {},
   "outputs": [],
   "source": [
    "import pandas as pd\n",
    "team = [\"abilene-christian\",\"arizona-state\",'auburn','baylor','belmont','bradley','buffalo','cincinnati','colgate','duke',\\\n",
    "        'fairleigh-dickinson','florida','florida-state','gardner-webb','georgia-state',\\\n",
    "        \"gonzaga\",'houston','iona','iowa','iowa-state','kansas','kansas-state','kentucky','liberty','louisville','louisiana-state',\\\n",
    "       'marquette','maryland','michigan','michigan-state','minnesota','mississippi-state','montana','murray-state','nevada',\\\n",
    "       'new-mexico-state','north-carolina','north-carolina-central','north-dakota-state','northeastern','northern-kentucky',\\\n",
    "       'ohio-state','oklahoma','old-dominion','mississippi','oregon','prairie-view','purdue','saint-louis','seton-hall','st-johns-ny',\\\n",
    "       'saint-marys-ca','syracuse','temple','tennessee','texas-tech','california-irvine','central-florida','utah-state',\\\n",
    "       'virginia-commonwealth','vermont','villanova','virginia','virginia-tech','washington','wisconsin','wofford','yale']\n",
    "i=0\n",
    "\n",
    "while i < len(team):\n",
    "    csv = f'teams/{team[i]}.csv'\n",
    "    dataframe = pd.read_csv(csv)\n",
    "    dataframe['drb'] = dataframe['trb'] - dataframe['orb']\n",
    "    dataframe['opp_drb'] = dataframe['opp_trb'] - dataframe['opp_orb']\n",
    "    dataframe = dataframe.drop(columns = 'Unnamed: 0')\n",
    "    dataframe = dataframe.drop(columns = 'Unnamed: 0.1')\n",
    "    dataframe.to_csv(f'teams/{team[i]}.csv', index=False)\n",
    "    i += 1"
   ]
  }
 ],
 "metadata": {
  "kernelspec": {
   "display_name": "Python 3",
   "language": "python",
   "name": "python3"
  },
  "language_info": {
   "codemirror_mode": {
    "name": "ipython",
    "version": 3
   },
   "file_extension": ".py",
   "mimetype": "text/x-python",
   "name": "python",
   "nbconvert_exporter": "python",
   "pygments_lexer": "ipython3",
   "version": "3.6.6"
  }
 },
 "nbformat": 4,
 "nbformat_minor": 2
}
