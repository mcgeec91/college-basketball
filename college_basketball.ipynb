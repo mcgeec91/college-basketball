{
 "cells": [
  {
   "cell_type": "code",
   "execution_count": 1,
   "metadata": {},
   "outputs": [],
   "source": [
    "# Import Splinter and BeautifulSoup\n",
    "import csv\n",
    "from splinter import Browser\n",
    "from bs4 import BeautifulSoup as bs"
   ]
  },
  {
   "cell_type": "code",
   "execution_count": 2,
   "metadata": {},
   "outputs": [
    {
     "name": "stdout",
     "output_type": "stream",
     "text": [
      "/c/web_drivers/chromedriver\n"
     ]
    }
   ],
   "source": [
    "#find where the driver is located; doesnt work for this example because we are currently in /d/ not /c/\n",
    "!which chromedriver"
   ]
  },
  {
   "cell_type": "code",
   "execution_count": 3,
   "metadata": {},
   "outputs": [],
   "source": [
    "\n",
    "# Set the executable path and initialize the chrome browser in splinter\n",
    "executable_path = {'executable_path': 'C:\\web_drivers\\chromedriver'}\n",
    "browser = Browser('chrome', **executable_path)"
   ]
  },
  {
   "cell_type": "code",
   "execution_count": null,
   "metadata": {},
   "outputs": [],
   "source": [
    "Auburn, Baylor, Belmont, Bradley, Buffalo\n",
    "Cincinnati\n",
    "Colgate\n",
    "Duke\n",
    "Fairleigh Dickinson\n",
    "Florida\n",
    "Florida State\n",
    "Gardner-Webb\n",
    "Georgia State\n",
    "Gonzaga\n",
    "Houston\n",
    "Iona\n",
    "Iowa\n",
    "Iowa State\n",
    "Kansas\n",
    "Kansas State\n",
    "\n",
    "\n",
    "\n",
    "Kentucky\n",
    "Liberty\n",
    "Louisville\n",
    "LSU\n",
    "Marquette\n",
    "Maryland\n",
    "Michigan\n",
    "Michigan State\n",
    "Minnesota\n",
    "Mississippi State\n",
    "Montana\n",
    "Murray State\n",
    "Nevada\n",
    "New Mexico State\n",
    "North Carolina\n",
    "North Carolina Central\n",
    "North Dakota State\n",
    "Northeastern\n",
    "Northern Kentucky\n",
    "Ohio State\n",
    "Oklahoma\n",
    "\n",
    "Old Dominion Ole Miss\n",
    "Oregon\n",
    "Prairie View A&M\n",
    "Purdue\n",
    "Saint Louis\n",
    "Seton Hall\n",
    "St. John’s\n",
    "St. Mary’s\n",
    "Syracuse\n",
    "Temple\n",
    "Tennessee\n",
    "Texas Tech\n",
    "UC Irvine\n",
    "UCF\n",
    "Utah State\n",
    "VCU\n",
    "Vermont\n",
    "Villanova\n",
    "Virginia\n",
    "Virginia Tech\n",
    "Washington\n",
    "Wisconsin\n",
    "Wofford\n",
    "Yale"
   ]
  },
  {
   "cell_type": "code",
   "execution_count": 15,
   "metadata": {},
   "outputs": [],
   "source": [
    "import pandas as pd\n",
    "team = [\"abilene-christian\",\"arizona-state\",'auburn','baylor','belmont','bradley','buffalo','cincinnati','colgate','duke',\\\n",
    "        'fairleigh-dickinson','florida','florida-state','gardner-webb','georgia-state',\\\n",
    "        \"gonzaga\",'houston','iona','iowa','iowa-state','kansas','kansas-state','kentucky','liberty','louisville','louisiana-state',\\\n",
    "       'marquette','maryland','michigan','michigan-state','minnesota','mississippi-state','montana','murray-state','nevada',\\\n",
    "       'new-mexico-state','north-carolina','north-carolina-central','north-dakota-state','northeastern','northern-kentucky',\\\n",
    "       'ohio-state','oklahoma','old-dominion','mississippi','oregon','prairie-view','purdue','saint-louis','seton-hall','st-johns-ny',\\\n",
    "       'saint-marys-ca','syracuse','temple','tennessee','texas-tech','california-irvine','central-florida','utah-state',\\\n",
    "       'virginia-commonwealth','vermont','villanova','virginia','virginia-tech','washington','wisconsin','wofford','yale']\n",
    "i=0\n",
    "\n",
    "while i < len(team):\n",
    "    url = 'https://www.sports-reference.com/cbb/schools/' + team[i] + '/2019-gamelogs.html'\n",
    "    browser.visit(url)\n",
    "    # Optional delay for loading the page\n",
    "    browser.is_element_present_by_css(\"ul.item_list li.slide\", wait_time=10)\n",
    "    html = browser.html\n",
    "    get_headlines = bs(html, 'html.parser')\n",
    "    table = get_headlines.find('div', class_=\"overthrow table_container\")\n",
    "    table_head = table.find('thead').text.strip()\n",
    "    headers = table_head.split('\\n')\n",
    "    column_names = headers[4:]\n",
    "    table1 = get_headlines.find('div', class_=\"overthrow table_container\")\n",
    "    table_body1 = table.find('tbody')\n",
    "    numbers1 = []\n",
    "    for a1 in table_body1.find_all('td',class_ = 'left' ):\n",
    "        numbers1.append(a1.text)\n",
    "    table = get_headlines.find('div', class_=\"overthrow table_container\")\n",
    "    table_body = table.find('tbody')\n",
    "    numbers = []\n",
    "    for a in table_body.find_all('td',class_ = 'right' ):\n",
    "        numbers.append(a.text)\n",
    "    dataframe = ['winning_score','opp_score','fgm','fga','fg_perc','threes','three_att','three_perc','ft','fta','ft_perc','orb',\\\n",
    "            'trb','ast','stl','blk','tov','pf','opp_fgm','opp_fga','opp_fg_perc','opp_threes','opp_three_att','opp_three_perc',\\\n",
    "             'opp_ft','opp_fta','opp_ft_perc','opp_orb','opp_trb','opp_ast','opp_stl','opp_blk','opp_tov','opp_pf']\n",
    "    winning_score = numbers[::35]\n",
    "    opp_score = numbers[1::35]\n",
    "    fgm = numbers[2::35]\n",
    "    fga = numbers[3::35]\n",
    "    fg_perc = numbers[4::35]\n",
    "    threes = numbers[5::35]\n",
    "    three_att = numbers[6::35]\n",
    "    three_perc = numbers[7::35]\n",
    "    ft = numbers[8::35]\n",
    "    fta = numbers[9::35]\n",
    "    ft_perc = numbers[10::35]\n",
    "    orb = numbers[11::35]\n",
    "    trb = numbers[12::35]\n",
    "    ast = numbers[13::35]\n",
    "    stl = numbers[14::35]\n",
    "    blk = numbers[15::35]\n",
    "    tov = numbers[16::35]\n",
    "    pf = numbers[17::35]\n",
    "    blank_1 = numbers[18::35]\n",
    "    opp_fgm = numbers[19::35]\n",
    "    opp_fga = numbers[20::35]\n",
    "    opp_fg_perc = numbers[21::35]\n",
    "    opp_threes = numbers[22::35]\n",
    "    opp_three_att = numbers[23::35]\n",
    "    opp_three_perc = numbers[24::35]\n",
    "    opp_ft = numbers[25::35]\n",
    "    opp_fta = numbers[26::35]\n",
    "    opp_ft_perc = numbers[27::35]\n",
    "    opp_orb = numbers[28::35]\n",
    "    opp_trb = numbers[29::35]\n",
    "    opp_ast = numbers[30::35]\n",
    "    opp_stl = numbers[31::35]\n",
    "    opp_blk = numbers[32::35]\n",
    "    opp_tov = numbers[33::35]\n",
    "    opp_pf = numbers[34::35]\n",
    "    date = numbers1[::4]\n",
    "    site = numbers1[1::4]\n",
    "    opp_name = numbers1[2::4]\n",
    "    win_or_loss = numbers1[3::4]\n",
    "    dataframe = [date,site,opp_name,win_or_loss,winning_score,opp_score,fgm,fga,fg_perc,threes,three_att,three_perc,ft,fta,ft_perc,orb,\\\n",
    "            trb,ast,stl,blk,tov,pf,opp_fgm,opp_fga,opp_fg_perc,opp_threes,opp_three_att,opp_three_perc,\\\n",
    "            opp_ft,opp_fta,opp_ft_perc,opp_orb,opp_trb,opp_ast,opp_stl,opp_blk,opp_tov,opp_pf]\n",
    "    column_names = ['date','site','opp_name','win_or_loss','winning_score','opp_score','fgm','fga','fg_perc','threes','three_att','three_perc','ft','fta','ft_perc','orb',\\\n",
    "            'trb','ast','stl','blk','tov','pf','opp_fgm','opp_fga','opp_fg_perc','opp_threes','opp_three_att','opp_three_perc',\\\n",
    "             'opp_ft','opp_fta','opp_ft_perc','opp_orb','opp_trb','opp_ast','opp_stl','opp_blk','opp_tov','opp_pf']\n",
    "    p = pd.DataFrame(dataframe)\n",
    "    dataset = p.transpose()\n",
    "    fixed_dataset = dataset.rename(columns={0:'date',1:'site',2:'opp_name',3:'win_or_loss',4:'winning_score',5:'opp_score',6:'fgm',7:'fga',8:\\\n",
    "                        'fg_perc',9:'threes',10:'three_att',11:'three_perc',12:'ft',13:'fta',14:'ft_perc',15:'orb',\\\n",
    "            16:'trb',17:'ast',18:'stl',19:'blk',20:'tov',21:'pf',22:'opp_fgm',23:'opp_fga',24:'opp_fg_perc',25:'opp_threes',26:'opp_three_att',27:'opp_three_perc',\\\n",
    "             28:'opp_ft',29:'opp_fta',30:'opp_ft_perc',31:'opp_orb',32:'opp_trb',33:'opp_ast',34:'opp_stl',35:'opp_blk',\\\n",
    "                        36:'opp_tov',37:'opp_pf'})\n",
    "    fixed_dataset[\"team\"]= f'{team[i]}'\n",
    "    fixed_dataset.to_csv(f'teams/{team[i]}.csv')\n",
    "    i += 1"
   ]
  },
  {
   "cell_type": "code",
   "execution_count": 196,
   "metadata": {},
   "outputs": [],
   "source": [
    "html = browser.html\n",
    "get_headlines = bs(html, 'html.parser')"
   ]
  },
  {
   "cell_type": "code",
   "execution_count": 213,
   "metadata": {},
   "outputs": [
    {
     "data": {
      "text/plain": [
       "40"
      ]
     },
     "execution_count": 213,
     "metadata": {},
     "output_type": "execute_result"
    }
   ],
   "source": [
    "table = get_headlines.find('div', class_=\"overthrow table_container\")\n",
    "#print(table.prettify())\n",
    "#table_head1 = table.find('tr' ,class_=\"over_header\")\n",
    "#print(table_head1)\n",
    "table_head = table.find('thead').text.strip()\n",
    "headers = table_head.split('\\n')\n",
    "column_names = headers[4:]\n",
    "len(column_names)"
   ]
  },
  {
   "cell_type": "code",
   "execution_count": 198,
   "metadata": {},
   "outputs": [
    {
     "data": {
      "text/plain": [
       "132"
      ]
     },
     "execution_count": 198,
     "metadata": {},
     "output_type": "execute_result"
    }
   ],
   "source": [
    "import pandas as pd\n",
    "table1 = get_headlines.find('div', class_=\"overthrow table_container\")\n",
    "table_body1 = table.find('tbody')\n",
    "#info1 = print(table_body1.prettify())\n",
    "\n",
    "numbers1 = []\n",
    "for a1 in table_body.find_all('td',class_ = 'left' ):\n",
    "    numbers1.append(a1.text)\n",
    "len(numbers1)\n",
    "\n"
   ]
  },
  {
   "cell_type": "code",
   "execution_count": 199,
   "metadata": {},
   "outputs": [],
   "source": [
    "table = get_headlines.find('div', class_=\"overthrow table_container\")\n",
    "table_body = table.find('tbody')\n",
    "#info = print(table_body.prettify())\n",
    "\n",
    "numbers = []\n",
    "for a in table_body.find_all('td',class_ = 'right' ):\n",
    "    numbers.append(a.text)\n",
    "len(numbers)\n",
    "i = len(numbers1)/4\n",
    "\n",
    "\n",
    "i\n",
    "\n",
    "len(numbers)/(i)\n",
    "#numbers[0]\n",
    "\n",
    "dataframe = ['winning_score','opp_score','fgm','fga','fg_perc','threes','three_att','three_perc','ft','fta','ft_perc','orb',\\\n",
    "            'trb','ast','stl','blk','tov','pf','opp_fgm','opp_fga','opp_fg_perc','opp_threes','opp_three_att','opp_three_perc',\\\n",
    "             'opp_ft','opp_fta','opp_ft_perc','opp_orb','opp_trb','opp_ast','opp_stl','opp_blk','opp_tov','opp_pf']\n",
    "\n",
    "winning_score = numbers[::35]\n",
    "opp_score = numbers[1::35]\n",
    "fgm = numbers[2::35]\n",
    "fga = numbers[3::35]\n",
    "fg_perc = numbers[4::35]\n",
    "threes = numbers[5::35]\n",
    "three_att = numbers[6::35]\n",
    "three_perc = numbers[7::35]\n",
    "ft = numbers[8::35]\n",
    "fta = numbers[9::35]\n",
    "ft_perc = numbers[10::35]\n",
    "orb = numbers[11::35]\n",
    "trb = numbers[12::35]\n",
    "ast = numbers[13::35]\n",
    "stl = numbers[14::35]\n",
    "blk = numbers[15::35]\n",
    "tov = numbers[16::35]\n",
    "pf = numbers[17::35]\n",
    "blank_1 = numbers[18::35]\n",
    "opp_fgm = numbers[19::35]\n",
    "opp_fga = numbers[20::35]\n",
    "opp_fg_perc = numbers[21::35]\n",
    "opp_threes = numbers[22::35]\n",
    "opp_three_att = numbers[23::35]\n",
    "opp_three_perc = numbers[24::35]\n",
    "opp_ft = numbers[25::35]\n",
    "opp_fta = numbers[26::35]\n",
    "opp_ft_perc = numbers[27::35]\n",
    "opp_orb = numbers[28::35]\n",
    "opp_trb = numbers[29::35]\n",
    "opp_ast = numbers[30::35]\n",
    "opp_stl = numbers[31::35]\n",
    "opp_blk = numbers[32::35]\n",
    "opp_tov = numbers[33::35]\n",
    "opp_pf = numbers[34::35]\n",
    "\n",
    "\n",
    "date = numbers1[::4]\n",
    "site = numbers1[1::4]\n",
    "opp_name = numbers1[2::4]\n",
    "win_or_loss = numbers1[3::4]\n",
    "len(opp_trb)\n",
    "dataframe = [date,site,opp_name,win_or_loss,winning_score,opp_score,fgm,fga,fg_perc,threes,three_att,three_perc,ft,fta,ft_perc,orb,\\\n",
    "            trb,ast,stl,blk,tov,pf,opp_fgm,opp_fga,opp_fg_perc,opp_threes,opp_three_att,opp_three_perc,\\\n",
    "            opp_ft,opp_fta,opp_ft_perc,opp_orb,opp_trb,opp_ast,opp_stl,opp_blk,opp_tov,opp_pf]\n",
    "column_names = ['date','site','opp_name','win_or_loss','winning_score','opp_score','fgm','fga','fg_perc','threes','three_att','three_perc','ft','fta','ft_perc','orb',\\\n",
    "            'trb','ast','stl','blk','tov','pf','opp_fgm','opp_fga','opp_fg_perc','opp_threes','opp_three_att','opp_three_perc',\\\n",
    "             'opp_ft','opp_fta','opp_ft_perc','opp_orb','opp_trb','opp_ast','opp_stl','opp_blk','opp_tov','opp_pf']\n",
    "p = pd.DataFrame(dataframe)\n",
    "dataset = p.transpose()\n",
    "fixed_dataset = dataset.rename(columns={0:'date',1:'site',2:'opp_name',3:'win_or_loss',4:'winning_score',5:'opp_score',6:'fgm',7:'fga',8:\\\n",
    "                        'fg_perc',9:'threes',10:'three_att',11:'three_perc',12:'ft',13:'fta',14:'ft_perc',15:'orb',\\\n",
    "            16:'trb',17:'ast',18:'stl',19:'blk',20:'tov',21:'pf',22:'opp_fgm',23:'opp_fga',24:'opp_fg_perc',25:'opp_threes',26:'opp_three_att',27:'opp_three_perc',\\\n",
    "             28:'opp_ft',29:'opp_fta',30:'opp_ft_perc',31:'opp_orb',32:'opp_trb',33:'opp_ast',34:'opp_stl',35:'opp_blk',\\\n",
    "                        36:'opp_tov',37:'opp_pf'})\n"
   ]
  },
  {
   "cell_type": "code",
   "execution_count": 211,
   "metadata": {},
   "outputs": [],
   "source": [
    "fixed_dataset.to_csv(f'teams/{team}.csv')"
   ]
  },
  {
   "cell_type": "code",
   "execution_count": 116,
   "metadata": {},
   "outputs": [
    {
     "data": {
      "text/plain": [
       "40"
      ]
     },
     "execution_count": 116,
     "metadata": {},
     "output_type": "execute_result"
    }
   ],
   "source": [
    "table = get_headlines.find('div', class_=\"overthrow table_container\")\n",
    "#print(table.prettify())\n",
    "#table_head1 = table.find('tr' ,class_=\"over_header\")\n",
    "#print(table_head1)\n",
    "table_head = table.find('thead').text.strip()\n",
    "headers = table_head.split('\\n')\n",
    "column_names = headers[4:]\n",
    "len(column_names)"
   ]
  },
  {
   "cell_type": "code",
   "execution_count": null,
   "metadata": {},
   "outputs": [],
   "source": []
  },
  {
   "cell_type": "code",
   "execution_count": 56,
   "metadata": {},
   "outputs": [
    {
     "name": "stdout",
     "output_type": "stream",
     "text": [
      "<div aria-label=\"Site Search for players, teams and sections\" class=\"search\" role=\"search\">\n",
      " <form action=\"/cbb/search/search.fcgi\" itemprop=\"potentialAction\" itemscope=\"\" itemtype=\"https://schema.org/SearchAction\" method=\"get\" name=\"f_big\">\n",
      "  <meta content=\"https://www.sports-reference.com/cbb/search/search.fcgi?search={search}\" itemprop=\"target\"/>\n",
      "  <div class=\"ac-outline\">\n",
      "   <div class=\"ac-wrapper\">\n",
      "    <input autocapitalize=\"off\" autocomplete=\"off\" autocorrect=\"off\" class=\"ac-hint\" dir=\"auto\" name=\"hint\" placeholder=\"\" spellcheck=\"false\" tabindex=\"-1\" type=\"search\"/>\n",
      "    <input aria-label=\"Enter a player, team or section name\" autocapitalize=\"off\" autocomplete=\"off\" autocorrect=\"off\" class=\"ac-input completely\" dir=\"auto\" itemprop=\"query-input\" name=\"search\" placeholder=\"Enter Person, Team, Section, etc\" spellcheck=\"false\" tabindex=\"1\" type=\"search\"/>\n",
      "    <div class=\"ac-dropdown\">\n",
      "    </div>\n",
      "   </div>\n",
      "  </div>\n",
      "  <input tabindex=\"2\" type=\"submit\" value=\"Search\"/>\n",
      "  <input data-search-id=\"\" name=\"pid\" type=\"hidden\" value=\"\"/>\n",
      "  <input data-search-idx=\"\" name=\"idx\" type=\"hidden\" value=\"\"/>\n",
      " </form>\n",
      "</div>\n",
      "\n"
     ]
    }
   ],
   "source": [
    "#seperate first item container\n",
    "header = get_headlines.find('div', class_ = 'search')\n",
    "print(header.prettify())\n",
    "search1 = header.find('input', type = 'data-search')\n",
    "#search1.replace_with(bs(\"<b>bold element</b>\"))\n"
   ]
  },
  {
   "cell_type": "code",
   "execution_count": 20,
   "metadata": {},
   "outputs": [
    {
     "ename": "AttributeError",
     "evalue": "'str' object has no attribute 'find_all'",
     "output_type": "error",
     "traceback": [
      "\u001b[1;31m---------------------------------------------------------------------------\u001b[0m",
      "\u001b[1;31mAttributeError\u001b[0m                            Traceback (most recent call last)",
      "\u001b[1;32m<ipython-input-20-49afa976b214>\u001b[0m in \u001b[0;36m<module>\u001b[1;34m()\u001b[0m\n\u001b[1;32m----> 1\u001b[1;33m \u001b[0mbs\u001b[0m\u001b[1;33m.\u001b[0m\u001b[0mfind\u001b[0m\u001b[1;33m(\u001b[0m\u001b[1;34m'input'\u001b[0m\u001b[1;33m)\u001b[0m\u001b[1;33m[\u001b[0m\u001b[1;34m'gonzaga'\u001b[0m\u001b[1;33m]\u001b[0m\u001b[1;33m\u001b[0m\u001b[0m\n\u001b[0m",
      "\u001b[1;32m~\\Anaconda3\\envs\\myenv\\lib\\site-packages\\bs4\\element.py\u001b[0m in \u001b[0;36mfind\u001b[1;34m(self, name, attrs, recursive, text, **kwargs)\u001b[0m\n\u001b[0;32m   1353\u001b[0m         criteria.\"\"\"\n\u001b[0;32m   1354\u001b[0m         \u001b[0mr\u001b[0m \u001b[1;33m=\u001b[0m \u001b[1;32mNone\u001b[0m\u001b[1;33m\u001b[0m\u001b[0m\n\u001b[1;32m-> 1355\u001b[1;33m         \u001b[0ml\u001b[0m \u001b[1;33m=\u001b[0m \u001b[0mself\u001b[0m\u001b[1;33m.\u001b[0m\u001b[0mfind_all\u001b[0m\u001b[1;33m(\u001b[0m\u001b[0mname\u001b[0m\u001b[1;33m,\u001b[0m \u001b[0mattrs\u001b[0m\u001b[1;33m,\u001b[0m \u001b[0mrecursive\u001b[0m\u001b[1;33m,\u001b[0m \u001b[0mtext\u001b[0m\u001b[1;33m,\u001b[0m \u001b[1;36m1\u001b[0m\u001b[1;33m,\u001b[0m \u001b[1;33m**\u001b[0m\u001b[0mkwargs\u001b[0m\u001b[1;33m)\u001b[0m\u001b[1;33m\u001b[0m\u001b[0m\n\u001b[0m\u001b[0;32m   1356\u001b[0m         \u001b[1;32mif\u001b[0m \u001b[0ml\u001b[0m\u001b[1;33m:\u001b[0m\u001b[1;33m\u001b[0m\u001b[0m\n\u001b[0;32m   1357\u001b[0m             \u001b[0mr\u001b[0m \u001b[1;33m=\u001b[0m \u001b[0ml\u001b[0m\u001b[1;33m[\u001b[0m\u001b[1;36m0\u001b[0m\u001b[1;33m]\u001b[0m\u001b[1;33m\u001b[0m\u001b[0m\n",
      "\u001b[1;31mAttributeError\u001b[0m: 'str' object has no attribute 'find_all'"
     ]
    }
   ],
   "source": [
    "https://www.sports-reference.com/cbb/schools/north-carolina/2019.html\n",
    "https://www.sports-reference.com/cbb/schools/gonzaga/2019-gamelogs.html\n",
    "    \n",
    "https://www.sports-reference.com/cbb/schools/{team_name}/2019-gamelogs.html"
   ]
  },
  {
   "cell_type": "code",
   "execution_count": null,
   "metadata": {},
   "outputs": [],
   "source": []
  }
 ],
 "metadata": {
  "kernelspec": {
   "display_name": "Python 3",
   "language": "python",
   "name": "python3"
  },
  "language_info": {
   "codemirror_mode": {
    "name": "ipython",
    "version": 3
   },
   "file_extension": ".py",
   "mimetype": "text/x-python",
   "name": "python",
   "nbconvert_exporter": "python",
   "pygments_lexer": "ipython3",
   "version": "3.6.6"
  }
 },
 "nbformat": 4,
 "nbformat_minor": 2
}
